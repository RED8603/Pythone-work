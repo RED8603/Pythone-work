{
 "cells": [
  {
   "cell_type": "markdown",
   "metadata": {},
   "source": [
    "\n",
    "Name: Faraz ali\n",
    "Roll: PIAIC57145\n",
    "Assignment 1 Batch 4 Quarter 2"
   ]
  },
  {
   "cell_type": "code",
   "execution_count": 2,
   "metadata": {},
   "outputs": [],
   "source": [
    "# Importing numpy library as rusel\n",
    "import numpy as np"
   ]
  },
  {
   "cell_type": "code",
   "execution_count": 3,
   "metadata": {},
   "outputs": [
    {
     "data": {
      "text/plain": [
       "array([1, 2, 3, 4, 5])"
      ]
     },
     "execution_count": 3,
     "metadata": {},
     "output_type": "execute_result"
    }
   ],
   "source": [
    "#method 1\n",
    "np.array([1,2,3,4,5])"
   ]
  },
  {
   "cell_type": "code",
   "execution_count": 4,
   "metadata": {},
   "outputs": [
    {
     "data": {
      "text/plain": [
       "10"
      ]
     },
     "execution_count": 4,
     "metadata": {},
     "output_type": "execute_result"
    }
   ],
   "source": [
    "#method 2\n",
    "np.add(8,2)"
   ]
  },
  {
   "cell_type": "code",
   "execution_count": 5,
   "metadata": {},
   "outputs": [
    {
     "data": {
      "text/plain": [
       "8"
      ]
     },
     "execution_count": 5,
     "metadata": {},
     "output_type": "execute_result"
    }
   ],
   "source": [
    "#method 3\n",
    "np.subtract(15,7)"
   ]
  },
  {
   "cell_type": "code",
   "execution_count": 6,
   "metadata": {},
   "outputs": [
    {
     "data": {
      "text/plain": [
       "8"
      ]
     },
     "execution_count": 6,
     "metadata": {},
     "output_type": "execute_result"
    }
   ],
   "source": [
    "#method 4\n",
    "np.multiply(4,2)"
   ]
  },
  {
   "cell_type": "code",
   "execution_count": 7,
   "metadata": {},
   "outputs": [
    {
     "data": {
      "text/plain": [
       "array([0., 0., 0., 0., 0.])"
      ]
     },
     "execution_count": 7,
     "metadata": {},
     "output_type": "execute_result"
    }
   ],
   "source": [
    "#method 5\n",
    "np.zeros(5)"
   ]
  },
  {
   "cell_type": "code",
   "execution_count": 8,
   "metadata": {},
   "outputs": [
    {
     "data": {
      "text/plain": [
       "array([1.])"
      ]
     },
     "execution_count": 8,
     "metadata": {},
     "output_type": "execute_result"
    }
   ],
   "source": [
    "#method 6\n",
    "np.ones(1)"
   ]
  },
  {
   "cell_type": "code",
   "execution_count": 9,
   "metadata": {},
   "outputs": [
    {
     "data": {
      "text/plain": [
       "array([[1., 1., 1., 1.],\n",
       "       [1., 1., 1., 1.],\n",
       "       [1., 1., 1., 1.],\n",
       "       [1., 1., 1., 1.],\n",
       "       [1., 1., 1., 1.]])"
      ]
     },
     "execution_count": 9,
     "metadata": {},
     "output_type": "execute_result"
    }
   ],
   "source": [
    "#method 7\n",
    "np.ones((5,4),dtype=float)\n"
   ]
  },
  {
   "cell_type": "code",
   "execution_count": 10,
   "metadata": {},
   "outputs": [
    {
     "data": {
      "text/plain": [
       "array([[7, 7, 7, 7],\n",
       "       [7, 7, 7, 7],\n",
       "       [7, 7, 7, 7],\n",
       "       [7, 7, 7, 7],\n",
       "       [7, 7, 7, 7]])"
      ]
     },
     "execution_count": 10,
     "metadata": {},
     "output_type": "execute_result"
    }
   ],
   "source": [
    "#method 8\n",
    "np.full((5,4),7)\n"
   ]
  },
  {
   "cell_type": "code",
   "execution_count": 11,
   "metadata": {},
   "outputs": [
    {
     "data": {
      "text/plain": [
       "array([ 5,  9, 13, 17, 21, 25, 29])"
      ]
     },
     "execution_count": 11,
     "metadata": {},
     "output_type": "execute_result"
    }
   ],
   "source": [
    "#method 9\n",
    "np.arange(5,30,4)"
   ]
  },
  {
   "cell_type": "code",
   "execution_count": 12,
   "metadata": {},
   "outputs": [
    {
     "data": {
      "text/plain": [
       "array([0.  , 1.25, 2.5 , 3.75, 5.  ])"
      ]
     },
     "execution_count": 12,
     "metadata": {},
     "output_type": "execute_result"
    }
   ],
   "source": [
    "#method 10\n",
    "np.linspace(0,5,5)\n"
   ]
  },
  {
   "cell_type": "code",
   "execution_count": 13,
   "metadata": {},
   "outputs": [
    {
     "data": {
      "text/plain": [
       "array([[0.30037486, 0.93606687],\n",
       "       [0.26290252, 0.89695343],\n",
       "       [0.20008227, 0.63395864]])"
      ]
     },
     "execution_count": 13,
     "metadata": {},
     "output_type": "execute_result"
    }
   ],
   "source": [
    "#method 11\n",
    "np.random.random((3,2))\n",
    "\n"
   ]
  },
  {
   "cell_type": "code",
   "execution_count": 14,
   "metadata": {},
   "outputs": [
    {
     "data": {
      "text/plain": [
       "array([0.00000000e+000, 0.00000000e+000, 0.00000000e+000, 0.00000000e+000,\n",
       "       0.00000000e+000, 0.00000000e+000, 3.78287341e-307])"
      ]
     },
     "execution_count": 14,
     "metadata": {},
     "output_type": "execute_result"
    }
   ],
   "source": [
    "#method 12\n",
    "x=np.empty(7)\n",
    "x\n"
   ]
  },
  {
   "cell_type": "code",
   "execution_count": 15,
   "metadata": {},
   "outputs": [
    {
     "data": {
      "text/plain": [
       "array([6.85216574e+256, 9.75001017e+020])"
      ]
     },
     "execution_count": 15,
     "metadata": {},
     "output_type": "execute_result"
    }
   ],
   "source": [
    "#method 13\n",
    "y=np.empty(2)\n",
    "y\n"
   ]
  },
  {
   "cell_type": "code",
   "execution_count": 16,
   "metadata": {},
   "outputs": [
    {
     "data": {
      "text/plain": [
       "array([[13, 16,  9,  2, 16],\n",
       "       [ 5, 11, 14, 16, 14],\n",
       "       [ 2,  9, 11,  7, 13],\n",
       "       [ 2,  4,  3,  8,  2],\n",
       "       [17,  0,  7,  8, 11]])"
      ]
     },
     "execution_count": 16,
     "metadata": {},
     "output_type": "execute_result"
    }
   ],
   "source": [
    "#method 14\n",
    "rint=np.random.randint(0,20,(5,5))\n",
    "rint\n"
   ]
  },
  {
   "cell_type": "code",
   "execution_count": 17,
   "metadata": {},
   "outputs": [
    {
     "data": {
      "text/plain": [
       "(7,)"
      ]
     },
     "execution_count": 17,
     "metadata": {},
     "output_type": "execute_result"
    }
   ],
   "source": [
    "#method 15\n",
    "np.shape(x)\n"
   ]
  },
  {
   "cell_type": "code",
   "execution_count": 18,
   "metadata": {},
   "outputs": [
    {
     "data": {
      "text/plain": [
       "7"
      ]
     },
     "execution_count": 18,
     "metadata": {},
     "output_type": "execute_result"
    }
   ],
   "source": [
    "#method 16\n",
    "np.size(x)\n"
   ]
  },
  {
   "cell_type": "code",
   "execution_count": 19,
   "metadata": {},
   "outputs": [
    {
     "name": "stdout",
     "output_type": "stream",
     "text": [
      "float64\n",
      "float64\n",
      "int32\n"
     ]
    }
   ],
   "source": [
    "#method 17\n",
    "print(x.dtype)\n",
    "print(y.dtype)\n",
    "print(rint.dtype)\n",
    "\n"
   ]
  },
  {
   "cell_type": "code",
   "execution_count": 20,
   "metadata": {},
   "outputs": [
    {
     "name": "stdout",
     "output_type": "stream",
     "text": [
      "<memory at 0x000001DC33430F48>\n",
      "<memory at 0x000001DC33430F48>\n",
      "<memory at 0x000001DC3344A748>\n"
     ]
    }
   ],
   "source": [
    "#method 18\n",
    "print(x.data)\n",
    "print(y.data)\n",
    "print(rint.data)\n"
   ]
  },
  {
   "cell_type": "code",
   "execution_count": 22,
   "metadata": {},
   "outputs": [
    {
     "name": "stdout",
     "output_type": "stream",
     "text": [
      "8\n",
      "8\n",
      "4\n"
     ]
    }
   ],
   "source": [
    "#method 19\n",
    "print(x.itemsize)\n",
    "print(y.itemsize)\n",
    "print(rint.itemsize)\n"
   ]
  },
  {
   "cell_type": "code",
   "execution_count": 23,
   "metadata": {},
   "outputs": [
    {
     "name": "stdout",
     "output_type": "stream",
     "text": [
      "1\n",
      "1\n",
      "2\n"
     ]
    }
   ],
   "source": [
    "#method 20\n",
    "print(x.ndim)\n",
    "print(y.ndim)\n",
    "print(rint.ndim)\n"
   ]
  },
  {
   "cell_type": "code",
   "execution_count": 24,
   "metadata": {},
   "outputs": [
    {
     "data": {
      "text/plain": [
       "Generator(PCG64) at 0x1DC3339BA98"
      ]
     },
     "execution_count": 24,
     "metadata": {},
     "output_type": "execute_result"
    }
   ],
   "source": [
    "#method 21\n",
    "np.random.default_rng(1)\n"
   ]
  },
  {
   "cell_type": "code",
   "execution_count": 25,
   "metadata": {},
   "outputs": [],
   "source": [
    "#method 22\n",
    "new=np.random.randint(11,20,(5,5))\n"
   ]
  },
  {
   "cell_type": "code",
   "execution_count": 26,
   "metadata": {},
   "outputs": [
    {
     "data": {
      "text/plain": [
       "11"
      ]
     },
     "execution_count": 26,
     "metadata": {},
     "output_type": "execute_result"
    }
   ],
   "source": [
    "#method 23\n",
    "new.min()\n"
   ]
  },
  {
   "cell_type": "code",
   "execution_count": 27,
   "metadata": {},
   "outputs": [
    {
     "data": {
      "text/plain": [
       "19"
      ]
     },
     "execution_count": 27,
     "metadata": {},
     "output_type": "execute_result"
    }
   ],
   "source": [
    "#method 24\n",
    "new.max()\n"
   ]
  },
  {
   "cell_type": "code",
   "execution_count": 28,
   "metadata": {},
   "outputs": [
    {
     "data": {
      "text/plain": [
       "15.36"
      ]
     },
     "execution_count": 28,
     "metadata": {},
     "output_type": "execute_result"
    }
   ],
   "source": [
    "#method 25\n",
    "new.mean()\n"
   ]
  },
  {
   "cell_type": "code",
   "execution_count": 29,
   "metadata": {},
   "outputs": [
    {
     "data": {
      "text/plain": [
       "384"
      ]
     },
     "execution_count": 29,
     "metadata": {},
     "output_type": "execute_result"
    }
   ],
   "source": [
    "#method 26\n",
    "new.sum()\n"
   ]
  },
  {
   "cell_type": "code",
   "execution_count": 30,
   "metadata": {},
   "outputs": [
    {
     "data": {
      "text/plain": [
       "array([[8.88611052e+06, 1.78482301e+08, 1.62754791e+05, 8.88611052e+06,\n",
       "        1.62754791e+05],\n",
       "       [1.20260428e+06, 5.98741417e+04, 6.56599691e+07, 6.56599691e+07,\n",
       "        2.41549528e+07],\n",
       "       [2.41549528e+07, 1.62754791e+05, 8.88611052e+06, 6.56599691e+07,\n",
       "        1.62754791e+05],\n",
       "       [2.41549528e+07, 1.20260428e+06, 5.98741417e+04, 1.62754791e+05,\n",
       "        1.78482301e+08],\n",
       "       [8.88611052e+06, 1.78482301e+08, 2.41549528e+07, 2.41549528e+07,\n",
       "        1.20260428e+06]])"
      ]
     },
     "execution_count": 30,
     "metadata": {},
     "output_type": "execute_result"
    }
   ],
   "source": [
    "#method 27\n",
    "np.exp(new)\n"
   ]
  },
  {
   "cell_type": "code",
   "execution_count": 31,
   "metadata": {},
   "outputs": [
    {
     "data": {
      "text/plain": [
       "array([[0.5488135 , 0.71518937, 0.60276338, 0.54488318, 0.4236548 ],\n",
       "       [0.64589411, 0.43758721, 0.891773  , 0.96366276, 0.38344152]])"
      ]
     },
     "execution_count": 31,
     "metadata": {},
     "output_type": "execute_result"
    }
   ],
   "source": [
    "#method 28\n",
    "np.random.seed(0)\n",
    "np.random.random((2,5))\n"
   ]
  },
  {
   "cell_type": "code",
   "execution_count": 32,
   "metadata": {},
   "outputs": [
    {
     "data": {
      "text/plain": [
       "array([16, 19, 12, 16, 12, 14, 11, 18, 18, 17, 17, 12, 16, 18, 12, 17, 14,\n",
       "       11, 12, 19, 16, 19, 17, 17, 14])"
      ]
     },
     "execution_count": 32,
     "metadata": {},
     "output_type": "execute_result"
    }
   ],
   "source": [
    "#method 29\n",
    "new.ravel()\n"
   ]
  },
  {
   "cell_type": "code",
   "execution_count": 33,
   "metadata": {},
   "outputs": [
    {
     "data": {
      "text/plain": [
       "array([[16, 19, 12, 16, 12],\n",
       "       [14, 11, 18, 18, 17],\n",
       "       [17, 12, 16, 18, 12],\n",
       "       [17, 14, 11, 12, 19],\n",
       "       [16, 19, 17, 17, 14]])"
      ]
     },
     "execution_count": 33,
     "metadata": {},
     "output_type": "execute_result"
    }
   ],
   "source": [
    "#method 30\n",
    "np.abs(new)\n"
   ]
  },
  {
   "cell_type": "code",
   "execution_count": 34,
   "metadata": {},
   "outputs": [
    {
     "data": {
      "text/plain": [
       "3.141592653589793"
      ]
     },
     "execution_count": 34,
     "metadata": {},
     "output_type": "execute_result"
    }
   ],
   "source": [
    "#method 31\n",
    "np.pi\n"
   ]
  },
  {
   "cell_type": "code",
   "execution_count": 35,
   "metadata": {},
   "outputs": [
    {
     "data": {
      "text/plain": [
       "array([[-0.28790332,  0.14987721, -0.53657292, -0.28790332, -0.53657292],\n",
       "       [ 0.99060736, -0.99999021, -0.75098725, -0.75098725, -0.96139749],\n",
       "       [-0.96139749, -0.53657292, -0.28790332, -0.75098725, -0.53657292],\n",
       "       [-0.96139749,  0.99060736, -0.99999021, -0.53657292,  0.14987721],\n",
       "       [-0.28790332,  0.14987721, -0.96139749, -0.96139749,  0.99060736]])"
      ]
     },
     "execution_count": 35,
     "metadata": {},
     "output_type": "execute_result"
    }
   ],
   "source": [
    "#method 32\n",
    "np.sin(new)\n"
   ]
  },
  {
   "cell_type": "code",
   "execution_count": 36,
   "metadata": {},
   "outputs": [
    {
     "data": {
      "text/plain": [
       "array([[-0.95765948,  0.98870462,  0.84385396, -0.95765948,  0.84385396],\n",
       "       [ 0.13673722,  0.0044257 ,  0.66031671,  0.66031671, -0.27516334],\n",
       "       [-0.27516334,  0.84385396, -0.95765948,  0.66031671,  0.84385396],\n",
       "       [-0.27516334,  0.13673722,  0.0044257 ,  0.84385396,  0.98870462],\n",
       "       [-0.95765948,  0.98870462, -0.27516334, -0.27516334,  0.13673722]])"
      ]
     },
     "execution_count": 36,
     "metadata": {},
     "output_type": "execute_result"
    }
   ],
   "source": [
    "#method 33\n",
    "np.cos(new)\n"
   ]
  },
  {
   "cell_type": "code",
   "execution_count": 37,
   "metadata": {},
   "outputs": [
    {
     "data": {
      "text/plain": [
       "array([[ 3.00632242e-01,  1.51589471e-01, -6.35859929e-01,\n",
       "         3.00632242e-01, -6.35859929e-01],\n",
       "       [ 7.24460662e+00, -2.25950846e+02, -1.13731371e+00,\n",
       "        -1.13731371e+00,  3.49391565e+00],\n",
       "       [ 3.49391565e+00, -6.35859929e-01,  3.00632242e-01,\n",
       "        -1.13731371e+00, -6.35859929e-01],\n",
       "       [ 3.49391565e+00,  7.24460662e+00, -2.25950846e+02,\n",
       "        -6.35859929e-01,  1.51589471e-01],\n",
       "       [ 3.00632242e-01,  1.51589471e-01,  3.49391565e+00,\n",
       "         3.49391565e+00,  7.24460662e+00]])"
      ]
     },
     "execution_count": 37,
     "metadata": {},
     "output_type": "execute_result"
    }
   ],
   "source": [
    "#method 34\n",
    "np.tan(new)\n"
   ]
  },
  {
   "cell_type": "code",
   "execution_count": 38,
   "metadata": {},
   "outputs": [
    {
     "data": {
      "text/plain": [
       "0.9272952180016123"
      ]
     },
     "execution_count": 38,
     "metadata": {},
     "output_type": "execute_result"
    }
   ],
   "source": [
    "#method 35\n",
    "np.arcsin(0.8)\n"
   ]
  },
  {
   "cell_type": "code",
   "execution_count": 39,
   "metadata": {},
   "outputs": [
    {
     "data": {
      "text/plain": [
       "0.6435011087932843"
      ]
     },
     "execution_count": 39,
     "metadata": {},
     "output_type": "execute_result"
    }
   ],
   "source": [
    "#method 36\n",
    "np.arccos(0.8)\n"
   ]
  },
  {
   "cell_type": "code",
   "execution_count": 40,
   "metadata": {},
   "outputs": [
    {
     "data": {
      "text/plain": [
       "0.6747409422235527"
      ]
     },
     "execution_count": 40,
     "metadata": {},
     "output_type": "execute_result"
    }
   ],
   "source": [
    "#method 37\n",
    "np.arctan(0.8)\n"
   ]
  },
  {
   "cell_type": "code",
   "execution_count": 41,
   "metadata": {},
   "outputs": [
    {
     "data": {
      "text/plain": [
       "array([[2.77258872, 2.94443898, 2.48490665, 2.77258872, 2.48490665],\n",
       "       [2.63905733, 2.39789527, 2.89037176, 2.89037176, 2.83321334],\n",
       "       [2.83321334, 2.48490665, 2.77258872, 2.89037176, 2.48490665],\n",
       "       [2.83321334, 2.63905733, 2.39789527, 2.48490665, 2.94443898],\n",
       "       [2.77258872, 2.94443898, 2.83321334, 2.83321334, 2.63905733]])"
      ]
     },
     "execution_count": 41,
     "metadata": {},
     "output_type": "execute_result"
    }
   ],
   "source": [
    "#method 38\n",
    "np.log(new)\n"
   ]
  },
  {
   "cell_type": "code",
   "execution_count": 42,
   "metadata": {},
   "outputs": [
    {
     "data": {
      "text/plain": [
       "array([[4.        , 4.24792751, 3.5849625 , 4.        , 3.5849625 ],\n",
       "       [3.80735492, 3.45943162, 4.169925  , 4.169925  , 4.08746284],\n",
       "       [4.08746284, 3.5849625 , 4.        , 4.169925  , 3.5849625 ],\n",
       "       [4.08746284, 3.80735492, 3.45943162, 3.5849625 , 4.24792751],\n",
       "       [4.        , 4.24792751, 4.08746284, 4.08746284, 3.80735492]])"
      ]
     },
     "execution_count": 42,
     "metadata": {},
     "output_type": "execute_result"
    }
   ],
   "source": [
    "#method 39\n",
    "np.log2(new)\n"
   ]
  },
  {
   "cell_type": "code",
   "execution_count": 43,
   "metadata": {},
   "outputs": [
    {
     "data": {
      "text/plain": [
       "array([[1.20411998, 1.2787536 , 1.07918125, 1.20411998, 1.07918125],\n",
       "       [1.14612804, 1.04139269, 1.25527251, 1.25527251, 1.23044892],\n",
       "       [1.23044892, 1.07918125, 1.20411998, 1.25527251, 1.07918125],\n",
       "       [1.23044892, 1.14612804, 1.04139269, 1.07918125, 1.2787536 ],\n",
       "       [1.20411998, 1.2787536 , 1.23044892, 1.23044892, 1.14612804]])"
      ]
     },
     "execution_count": 43,
     "metadata": {},
     "output_type": "execute_result"
    }
   ],
   "source": [
    "#method 40\n",
    "np.log10(new)\n"
   ]
  },
  {
   "cell_type": "code",
   "execution_count": 44,
   "metadata": {},
   "outputs": [
    {
     "data": {
      "text/plain": [
       "array([80, 75, 74, 81, 74])"
      ]
     },
     "execution_count": 44,
     "metadata": {},
     "output_type": "execute_result"
    }
   ],
   "source": [
    "#method 41\n",
    "np.add.reduce(new)\n"
   ]
  },
  {
   "cell_type": "code",
   "execution_count": 45,
   "metadata": {},
   "outputs": [
    {
     "data": {
      "text/plain": [
       "array([1035776,  667128,  646272, 1057536,  651168])"
      ]
     },
     "execution_count": 45,
     "metadata": {},
     "output_type": "execute_result"
    }
   ],
   "source": [
    "#method 42\n",
    "np.multiply.reduce(new)\n"
   ]
  },
  {
   "cell_type": "code",
   "execution_count": 46,
   "metadata": {},
   "outputs": [
    {
     "data": {
      "text/plain": [
       "array([[16, 19, 12, 16, 12],\n",
       "       [30, 30, 30, 34, 29],\n",
       "       [47, 42, 46, 52, 41],\n",
       "       [64, 56, 57, 64, 60],\n",
       "       [80, 75, 74, 81, 74]], dtype=int32)"
      ]
     },
     "execution_count": 46,
     "metadata": {},
     "output_type": "execute_result"
    }
   ],
   "source": [
    "#method 43\n",
    "np.add.accumulate(new)\n"
   ]
  },
  {
   "cell_type": "code",
   "execution_count": 47,
   "metadata": {},
   "outputs": [
    {
     "data": {
      "text/plain": [
       "array([[     16,      19,      12,      16,      12],\n",
       "       [    224,     209,     216,     288,     204],\n",
       "       [   3808,    2508,    3456,    5184,    2448],\n",
       "       [  64736,   35112,   38016,   62208,   46512],\n",
       "       [1035776,  667128,  646272, 1057536,  651168]], dtype=int32)"
      ]
     },
     "execution_count": 47,
     "metadata": {},
     "output_type": "execute_result"
    }
   ],
   "source": [
    "#method 44\n",
    "np.multiply.accumulate(new)\n"
   ]
  },
  {
   "cell_type": "code",
   "execution_count": 48,
   "metadata": {},
   "outputs": [
    {
     "data": {
      "text/plain": [
       "8"
      ]
     },
     "execution_count": 48,
     "metadata": {},
     "output_type": "execute_result"
    }
   ],
   "source": [
    "#method 45\n",
    "np.power(2,3)\n"
   ]
  },
  {
   "cell_type": "code",
   "execution_count": 49,
   "metadata": {},
   "outputs": [
    {
     "data": {
      "text/plain": [
       "[array([[16],\n",
       "        [14],\n",
       "        [17],\n",
       "        [17],\n",
       "        [16]]),\n",
       " array([[19],\n",
       "        [11],\n",
       "        [12],\n",
       "        [14],\n",
       "        [19]]),\n",
       " array([[12],\n",
       "        [18],\n",
       "        [16],\n",
       "        [11],\n",
       "        [17]]),\n",
       " array([[16],\n",
       "        [18],\n",
       "        [18],\n",
       "        [12],\n",
       "        [17]]),\n",
       " array([[12],\n",
       "        [17],\n",
       "        [12],\n",
       "        [19],\n",
       "        [14]])]"
      ]
     },
     "execution_count": 49,
     "metadata": {},
     "output_type": "execute_result"
    }
   ],
   "source": [
    "#method 46\n",
    "np.hsplit(new,5)\n"
   ]
  },
  {
   "cell_type": "code",
   "execution_count": 50,
   "metadata": {},
   "outputs": [
    {
     "data": {
      "text/plain": [
       "[array([[16, 19, 12, 16, 12]]),\n",
       " array([[14, 11, 18, 18, 17]]),\n",
       " array([[17, 12, 16, 18, 12]]),\n",
       " array([[17, 14, 11, 12, 19]]),\n",
       " array([[16, 19, 17, 17, 14]])]"
      ]
     },
     "execution_count": 50,
     "metadata": {},
     "output_type": "execute_result"
    }
   ],
   "source": [
    "#method 47\n",
    "np.vsplit(new,5)\n"
   ]
  },
  {
   "cell_type": "code",
   "execution_count": 51,
   "metadata": {},
   "outputs": [
    {
     "data": {
      "text/plain": [
       "array([[16, 19, 12, 16, 12],\n",
       "       [14, 11, 18, 18, 17],\n",
       "       [17, 12, 16, 18, 12],\n",
       "       [17, 14, 11, 12, 19],\n",
       "       [16, 19, 17, 17, 14]])"
      ]
     },
     "execution_count": 51,
     "metadata": {},
     "output_type": "execute_result"
    }
   ],
   "source": [
    "#method 48\n",
    "np.absolute(new)\n"
   ]
  },
  {
   "cell_type": "code",
   "execution_count": 52,
   "metadata": {},
   "outputs": [
    {
     "data": {
      "text/plain": [
       "0"
      ]
     },
     "execution_count": 52,
     "metadata": {},
     "output_type": "execute_result"
    }
   ],
   "source": [
    "#method 49\n",
    "np.prod(new)\n"
   ]
  },
  {
   "cell_type": "code",
   "execution_count": 53,
   "metadata": {},
   "outputs": [
    {
     "data": {
      "text/plain": [
       "2.651490147068248"
      ]
     },
     "execution_count": 53,
     "metadata": {},
     "output_type": "execute_result"
    }
   ],
   "source": [
    "#method 50\n",
    "np.std(new)\n"
   ]
  },
  {
   "cell_type": "code",
   "execution_count": null,
   "metadata": {},
   "outputs": [],
   "source": []
  }
 ],
 "metadata": {
  "kernelspec": {
   "display_name": "Python 3",
   "language": "python",
   "name": "python3"
  },
  "language_info": {
   "codemirror_mode": {
    "name": "ipython",
    "version": 3
   },
   "file_extension": ".py",
   "mimetype": "text/x-python",
   "name": "python",
   "nbconvert_exporter": "python",
   "pygments_lexer": "ipython3",
   "version": "3.7.6"
  }
 },
 "nbformat": 4,
 "nbformat_minor": 4
}
